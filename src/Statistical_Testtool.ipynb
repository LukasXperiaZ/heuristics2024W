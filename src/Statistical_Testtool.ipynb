{
 "cells": [
  {
   "cell_type": "markdown",
   "metadata": {},
   "source": [
    "# Tool for Statistical Testing"
   ]
  },
  {
   "cell_type": "markdown",
   "metadata": {},
   "source": [
    "This tool shows how we can apply a statistical test on two independent or two paired samples and is subdivided into the following parts:\n",
    "- [Parameters](#Parameters): Parameter for the test that need to be specified (filenames, variable names, alternative).\n",
    "- [Importing the Data](#Importing-the-Data): Here the needed data are imported.\n",
    "- [Tests: Preliminary Code](#Tests:-Preliminary-Code): Code that need to be run before executing the statistical tests.\n",
    "- [Tests for paired samples](#Tests-for-paired-samples): Use this section if your data are paired.\n",
    "- [Tests for independent samples](#Tests-for-independent-samples): Use this section if your data are independent.\n",
    "\n",
    "\n",
    "**General setting**\n",
    "\n",
    "Given two methods (algorithms) **A** and **B** we have the **null hypothesis** $H_0$:\n",
    "\n",
    "$H_0: \\theta_A = \\theta_B$\n",
    "\n",
    "Here $\\theta$ denotes the ground truth of a property (e.g. the expected run time or expected objective function value) of the algorithms **A** and **B**.\n",
    "\n",
    "The **alternative hypothesis** $H_1$ depends on whether we want to apply a **two-sided** or **one-sided** test.\n",
    "\n",
    "- **two-sided test**: Is there a statistically signifcant **difference** between **A** and **B** (e.g. **A** leads to smaller *or* greater objective function values)?\n",
    "  - $H_1: \\theta_A \\neq \\theta_B$ (```alternative = \"two-sided\"```)\n",
    "\n",
    "- **one-sided test**: Does **A** or **A** lead to **better** results (e.g. smaller objective function values in minimization problems)?\n",
    "  - $H_1: \\theta_A > \\theta_B$ (```alternative = \"greater\"```)\n",
    "  - $H_1: \\theta_A < \\theta_B$ (```alternative = \"less\"```)\n",
    "\n",
    "\n",
    "**Provided tests for two paired samples**\n",
    "\n",
    "Two samples are **paired** (also called **related**), if the runtimes or objective function values of **A** and **B** are determined on the **same** instances.\n",
    "In this case we have $n$ pairs of measurements for both algorithms.\n",
    "This tool provides two statistical **tests for two paired samples**:\n",
    "- **t-Test**: Applicable, if the difference of both samples is (approximately) normally distributed. Also applicable, if the sample size $n$ is large enough ($n \\geq 30$) **and** the distribution is not too skewed **and** the sample (the difference) do not contain outliers.\n",
    "- **Wilcoxon-Test**: Alternative, if the assumptions of the t-Test are not fulfilled.\n",
    "\n",
    "\n",
    "**Provided tests for two independent samples**\n",
    "\n",
    "Two samples are independent, if the runtimes or objective function values of **A** and **B** are determined on **different** instances. This tool provides two statistical **tests for two independent samples**:\n",
    "- **t-Test**: Applicable, if the data of both samples are (approximately) normally distributed. Also applicable, if the sample size of both samples $n_A$ and $n_B$ are large enough ($n_A \\geq 30$ and $n_B \\geq 30$) **and** the distribution is not too skewed **and** the samples do not contain outliers. $n_A$ and $n_B$ should be (approximately) equal.\n",
    "- **Wilcoxon-Test (U-Test)**: Alternative, if the assumptions of the t-Test are not fulfilled."
   ]
  },
  {
   "cell_type": "markdown",
   "metadata": {},
   "source": [
    "## Parameters"
   ]
  },
  {
   "cell_type": "markdown",
   "metadata": {},
   "source": [
    "Parameters for **data import**:\n",
    "- ```file_A```: Path to the file, where the results of algorithm **A** can be found.\n",
    "- ```file_B```: Path to the file, where the results of algorithm **B** can be found. The results of **A** and **B** can also be contained in the same file.\n",
    "- ```name_a```: Name of the column, where the results of algorithm **A** can be found.\n",
    "- ```name_b```: Name of the column, where the results of algorithm **B** can be found.\n",
    "\n",
    "Parameters for the **tests**:\n",
    "- ```alternative```: Which alternative $H_1$ should be tested? ```\"two-sided\"```, ```\"greater\"``` or ```\"less\"``` (see above)\n",
    "- ```alpha```: level of significance (usually $0.05$)"
   ]
  },
  {
   "cell_type": "code",
   "metadata": {
    "ExecuteTime": {
     "end_time": "2024-12-11T14:32:50.213618Z",
     "start_time": "2024-12-11T14:32:50.211416Z"
    }
   },
   "source": [
    "# Parameters for data import to be set\n",
    "file_A = \"../data/statistical_testing/data_medium.csv\"\n",
    "file_B = \"../data/statistical_testing/data_medium.csv\"\n",
    "name_A = \"obj_A\"\n",
    "name_B = \"obj_B\"\n",
    "\n",
    "# Parameters for the tests to be set\n",
    "alternative = \"two-sided\"\n",
    "alpha = 0.05"
   ],
   "outputs": [],
   "execution_count": 8
  },
  {
   "cell_type": "markdown",
   "metadata": {},
   "source": [
    "## Importing the Data"
   ]
  },
  {
   "cell_type": "markdown",
   "metadata": {},
   "source": [
    "It is assumed that the data are given in **csv-format**.\n",
    "Columns are separeted by a **semicolon** ```;``` and the first row contains the **names of the variables**. Furthermore it is assumed that for decimal numbers the **decimal point** ```.``` is used.\n",
    "\n",
    "The following example is based on ```Daten.csv``` (see TUWEL), where the results of **A** and **B** are given in the same file.\n",
    "It is assumed, that this file lies in the subfolder ```data``` of this notebook."
   ]
  },
  {
   "cell_type": "code",
   "metadata": {
    "ExecuteTime": {
     "end_time": "2024-12-11T14:32:52.922665Z",
     "start_time": "2024-12-11T14:32:52.914589Z"
    }
   },
   "source": [
    "# Importing the data\n",
    "import pandas as pd\n",
    "\n",
    "df_A = pd.read_csv(file_A, sep = \";\", decimal = \".\", usecols = [name_A])\n",
    "df_B = pd.read_csv(file_B, sep = \";\", decimal = \".\", usecols = [name_B])\n",
    "\n",
    "data_A = df_A[name_A]\n",
    "data_B = df_B[name_B]"
   ],
   "outputs": [],
   "execution_count": 9
  },
  {
   "cell_type": "markdown",
   "metadata": {},
   "source": [
    "## Tests: Preliminary Code"
   ]
  },
  {
   "cell_type": "markdown",
   "metadata": {},
   "source": [
    "The following packages need to be imported:"
   ]
  },
  {
   "cell_type": "code",
   "metadata": {
    "ExecuteTime": {
     "end_time": "2024-12-11T14:32:59.957797Z",
     "start_time": "2024-12-11T14:32:59.955600Z"
    }
   },
   "source": [
    "import numpy as np\n",
    "import matplotlib.pyplot as plt\n",
    "\n",
    "# scipy contains statistical tests and other useful content\n",
    "import scipy.stats\n",
    "from scipy.stats import norm"
   ],
   "outputs": [],
   "execution_count": 10
  },
  {
   "cell_type": "markdown",
   "metadata": {},
   "source": [
    "We define some auxiliary functions:\n",
    "- ```print_decision(pvalue, alpha```: Function that prints the results of a test. Input parameters:\n",
    "  - ```pvalue```: the p-value of the test\n",
    "  - ```alpha```: level of significance\n",
    "- ```compute_pvalue```: Sometimes, statistical tests only provide two-sided p-values. In case of one-sided tests, the p-value needs to be corrected accordingly. This is what this function does. Input parameters:\n",
    "  - ```pvalue```: the two-sided p-value\n",
    "  - ```diff```: the difference of the sample means (*mean(data_A) - mean(data_B)*)\n",
    "  - ```alternative```: either ```\"two-sided\"```, ```\"greater\"``` or ```\"less\"```\n",
    "- ```plot_hist(data, group)```: Plots a histogram together with the estimated normal probability density curve. Input parameters:\n",
    "  - ```data```: data for the histogram\n",
    "  - ```group```: What is the depicted group in the plot? (used in the title)"
   ]
  },
  {
   "cell_type": "code",
   "metadata": {
    "ExecuteTime": {
     "end_time": "2024-12-11T14:33:03.686684Z",
     "start_time": "2024-12-11T14:33:03.683072Z"
    }
   },
   "source": [
    "def print_decision(pvalue, alpha):\n",
    "    print(\"Test Result:\")\n",
    "    print(\"p-value = %.4f\" % (pvalue))\n",
    "    if pvalue < alpha:\n",
    "        print(\"H0 can be rejected on a level of significance of \" + str(alpha) + \".\")\n",
    "    else:\n",
    "        print(\"H0 cannot be rejected on a level of significance of \" + str(alpha) + \".\")\n",
    "        \n",
    "def compute_pvalue(pvalue, diff, alternative):\n",
    "    if alternative == \"greater\":\n",
    "        if diff > 0:\n",
    "            pvalue = pvalue / 2\n",
    "        else:\n",
    "            pvalue = 1 - pvalue / 2\n",
    "    elif alternative == \"less\":\n",
    "        if diff < 0:\n",
    "            pvalue = pvalue / 2\n",
    "        else:\n",
    "            pvalue = 1 - pvalue / 2\n",
    "    return pvalue\n",
    "\n",
    "def plot_hist(data, group):\n",
    "    # Plot a histogram\n",
    "    plt.hist(data, density = True, alpha = 0.5)\n",
    "\n",
    "    # Fit a normal distribution to the data\n",
    "    mu, std = norm.fit(data)\n",
    "\n",
    "    # Plot the probability density function\n",
    "    xmin, xmax = plt.xlim()\n",
    "    x = np.linspace(xmin, xmax, 201)\n",
    "    y = norm.pdf(x, mu, std)\n",
    "    plt.plot(x, y, \"black\")\n",
    "    title = \"Fit results of \" + group + \": mu = %.2f,  std = %.2f\" % (mu, std)\n",
    "    plt.title(title)\n",
    "\n",
    "    plt.show()"
   ],
   "outputs": [],
   "execution_count": 11
  },
  {
   "cell_type": "markdown",
   "metadata": {},
   "source": [
    "## Tests for paired samples"
   ]
  },
  {
   "cell_type": "markdown",
   "metadata": {},
   "source": [
    "Use this section if you have **two paired samples**."
   ]
  },
  {
   "cell_type": "markdown",
   "metadata": {},
   "source": [
    "### Visualisation of the distribution of the difference"
   ]
  },
  {
   "cell_type": "markdown",
   "metadata": {},
   "source": [
    "We check, whether the difference ```data_A - data_B``` is (approximately) normally distributed.\n",
    "This can be done by plotting a **histogram**.\n",
    "Furthermore we plot the **density of an estimated normal distribution**.\n",
    "If the curve approximately follows the histogram, then normal distribution can be assumed."
   ]
  },
  {
   "cell_type": "code",
   "metadata": {
    "ExecuteTime": {
     "end_time": "2024-12-11T14:33:14.190606Z",
     "start_time": "2024-12-11T14:33:14.073462Z"
    }
   },
   "source": [
    "plot_hist(data_A - data_B, \"difference\")"
   ],
   "outputs": [
    {
     "data": {
      "text/plain": [
       "<Figure size 640x480 with 1 Axes>"
      ],
      "image/png": "[encoded data removed]"
     },
     "metadata": {},
     "output_type": "display_data"
    }
   ],
   "execution_count": 12
  },
  {
   "cell_type": "markdown",
   "metadata": {},
   "source": [
    "### t-Test for two paired samples"
   ]
  },
  {
   "cell_type": "markdown",
   "metadata": {},
   "source": [
    "See https://docs.scipy.org/doc/scipy/reference/generated/scipy.stats.ttest_rel.html\n",
    "\n",
    "**Note**: Only the two-sided p-value is returned!"
   ]
  },
  {
   "cell_type": "code",
   "execution_count": 6,
   "metadata": {},
   "outputs": [
    {
     "name": "stdout",
     "output_type": "stream",
     "text": [
      "Test Result:\n",
      "p-value = 0.0344\n",
      "H0 can be rejected on a level of significance of 0.05.\n"
     ]
    }
   ],
   "source": [
    "# Apply the statistical test\n",
    "res = scipy.stats.ttest_rel(data_A, data_B)\n",
    "pvalue = res.pvalue\n",
    "\n",
    "# Compute the correct p-value (two-sided vs. one-sided)\n",
    "pvalue = compute_pvalue(res.pvalue, np.mean(data_A) - np.mean(data_B), alternative)\n",
    "\n",
    "# Print results\n",
    "print_decision(pvalue, alpha)"
   ]
  },
  {
   "cell_type": "markdown",
   "metadata": {},
   "source": [
    "### Wilcoxon Test for two paired samples"
   ]
  },
  {
   "cell_type": "markdown",
   "metadata": {},
   "source": [
    "See https://docs.scipy.org/doc/scipy/reference/generated/scipy.stats.wilcoxon.html"
   ]
  },
  {
   "cell_type": "code",
   "metadata": {
    "ExecuteTime": {
     "end_time": "2024-12-11T14:39:06.621897Z",
     "start_time": "2024-12-11T14:39:06.616379Z"
    }
   },
   "source": [
    "# Apply the statistical test\n",
    "res = scipy.stats.wilcoxon(data_A, data_B, alternative = alternative)\n",
    "\n",
    "# Print results\n",
    "print_decision(res.pvalue, alpha)"
   ],
   "outputs": [
    {
     "name": "stdout",
     "output_type": "stream",
     "text": [
      "Test Result:\n",
      "p-value = 0.0020\n",
      "H0 can be rejected on a level of significance of 0.05.\n"
     ]
    }
   ],
   "execution_count": 13
  },
  {
   "cell_type": "markdown",
   "metadata": {},
   "source": [
    "## Tests for independent samples"
   ]
  },
  {
   "cell_type": "markdown",
   "metadata": {},
   "source": [
    "Use this section if you have **two independent samples**."
   ]
  },
  {
   "cell_type": "markdown",
   "metadata": {},
   "source": [
    "### Visualisation of the distribution of both groups"
   ]
  },
  {
   "cell_type": "markdown",
   "metadata": {},
   "source": [
    "We check, whether both samples ```data_A - data_B``` are (approximately) normally distributed.\n",
    "This can be done by plotting a **histogram** for each group.\n",
    "Furthermore we plot the **density of an estimated normal distribution** \n",
    "If the curves approximately follows the corresponding histogram, then normal distribution can be assumed."
   ]
  },
  {
   "cell_type": "code",
   "execution_count": 8,
   "metadata": {},
   "outputs": [
    {
     "data": {
      "image/png": "[encoded data removed]",
      "text/plain": [
       "<Figure size 432x288 with 1 Axes>"
      ]
     },
     "metadata": {
      "needs_background": "light"
     },
     "output_type": "display_data"
    },
    {
     "data": {
      "image/png": "[encoded data removed]",
      "text/plain": [
       "<Figure size 432x288 with 1 Axes>"
      ]
     },
     "metadata": {
      "needs_background": "light"
     },
     "output_type": "display_data"
    }
   ],
   "source": [
    "plot_hist(data_A, name_A)\n",
    "plot_hist(data_B, name_B)"
   ]
  },
  {
   "cell_type": "markdown",
   "metadata": {},
   "source": [
    "### t-Test for two independent samples"
   ]
  },
  {
   "cell_type": "markdown",
   "metadata": {},
   "source": [
    "See https://docs.scipy.org/doc/scipy/reference/generated/scipy.stats.ttest_ind.html\n",
    "\n",
    "**Note**: Only the two-sided p-value is returned!"
   ]
  },
  {
   "cell_type": "code",
   "execution_count": 9,
   "metadata": {},
   "outputs": [
    {
     "name": "stdout",
     "output_type": "stream",
     "text": [
      "Test Result:\n",
      "p-value = 0.8873\n",
      "H0 cannot be rejected on a level of significance of 0.05.\n"
     ]
    }
   ],
   "source": [
    "# Apply the statistical test\n",
    "res = scipy.stats.ttest_ind(data_A, data_B)\n",
    "pvalue = res.pvalue\n",
    "\n",
    "# Compute the correct p-value (two-sided vs. one-sided)\n",
    "pvalue = compute_pvalue(res.pvalue, np.mean(data_A) - np.mean(data_B), alternative)\n",
    "\n",
    "# Print results\n",
    "print_decision(pvalue, alpha)"
   ]
  },
  {
   "cell_type": "markdown",
   "metadata": {},
   "source": [
    "### U-Test for two independent samples"
   ]
  },
  {
   "cell_type": "markdown",
   "metadata": {},
   "source": [
    "See https://docs.scipy.org/doc/scipy/reference/generated/scipy.stats.mannwhitneyu.html"
   ]
  },
  {
   "cell_type": "code",
   "execution_count": 10,
   "metadata": {},
   "outputs": [
    {
     "name": "stdout",
     "output_type": "stream",
     "text": [
      "Test Result:\n",
      "p-value = 0.8941\n",
      "H0 cannot be rejected on a level of significance of 0.05.\n"
     ]
    }
   ],
   "source": [
    "# Apply the statistical test\n",
    "res = scipy.stats.mannwhitneyu(data_A, data_B, alternative = alternative)\n",
    "\n",
    "# Print results\n",
    "print_decision(res.pvalue, alpha)"
   ]
  },
  {
   "cell_type": "code",
   "execution_count": null,
   "metadata": {},
   "outputs": [],
   "source": []
  }
 ],
 "metadata": {
  "kernelspec": {
   "display_name": "Python 3",
   "language": "python",
   "name": "python3"
  },
  "language_info": {
   "codemirror_mode": {
    "name": "ipython",
    "version": 3
   },
   "file_extension": ".py",
   "mimetype": "text/x-python",
   "name": "python",
   "nbconvert_exporter": "python",
   "pygments_lexer": "ipython3",
   "version": "3.9.0"
  }
 },
 "nbformat": 4,
 "nbformat_minor": 4
}
